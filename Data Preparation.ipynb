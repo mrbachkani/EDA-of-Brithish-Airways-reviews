{
 "cells": [
  {
   "cell_type": "markdown",
   "id": "75376db3",
   "metadata": {},
   "source": [
    "# Data Preparation"
   ]
  },
  {
   "cell_type": "code",
   "execution_count": 17,
   "id": "e5a14079",
   "metadata": {},
   "outputs": [
    {
     "name": "stderr",
     "output_type": "stream",
     "text": [
      "[nltk_data] Downloading package omw-1.4 to\n",
      "[nltk_data]     C:\\Users\\vatsa\\AppData\\Roaming\\nltk_data...\n",
      "[nltk_data] Downloading package wordnet to\n",
      "[nltk_data]     C:\\Users\\vatsa\\AppData\\Roaming\\nltk_data...\n",
      "[nltk_data]   Package wordnet is already up-to-date!\n"
     ]
    },
    {
     "data": {
      "text/plain": [
       "True"
      ]
     },
     "execution_count": 17,
     "metadata": {},
     "output_type": "execute_result"
    }
   ],
   "source": [
    "import nltk\n",
    "nltk.download('omw-1.4')\n",
    "nltk.download('wordnet')"
   ]
  },
  {
   "cell_type": "code",
   "execution_count": 15,
   "id": "684195a8",
   "metadata": {},
   "outputs": [],
   "source": [
    "import pandas as pd\n",
    "import numpy as np\n",
    "import requests"
   ]
  },
  {
   "cell_type": "code",
   "execution_count": 4,
   "id": "294c8ac9",
   "metadata": {},
   "outputs": [],
   "source": [
    "Unclean_Data = pd.read_csv(\"C:/Users/vatsa/Downloads/British-Airways-reviews-analysis/Data/BA_Data.csv\")"
   ]
  },
  {
   "cell_type": "code",
   "execution_count": 6,
   "id": "cb00c5e9",
   "metadata": {},
   "outputs": [
    {
     "data": {
      "text/html": [
       "<div>\n",
       "<style scoped>\n",
       "    .dataframe tbody tr th:only-of-type {\n",
       "        vertical-align: middle;\n",
       "    }\n",
       "\n",
       "    .dataframe tbody tr th {\n",
       "        vertical-align: top;\n",
       "    }\n",
       "\n",
       "    .dataframe thead th {\n",
       "        text-align: right;\n",
       "    }\n",
       "</style>\n",
       "<table border=\"1\" class=\"dataframe\">\n",
       "  <thead>\n",
       "    <tr style=\"text-align: right;\">\n",
       "      <th></th>\n",
       "      <th>Unnamed: 0</th>\n",
       "      <th>reviews</th>\n",
       "      <th>stars</th>\n",
       "      <th>date</th>\n",
       "      <th>country</th>\n",
       "    </tr>\n",
       "  </thead>\n",
       "  <tbody>\n",
       "    <tr>\n",
       "      <th>0</th>\n",
       "      <td>0</td>\n",
       "      <td>✅ Trip Verified |  This is the first time I ha...</td>\n",
       "      <td>\\n\\t\\t\\t\\t\\t\\t\\t\\t\\t\\t\\t\\t\\t5</td>\n",
       "      <td>2nd April 2024</td>\n",
       "      <td>United Kingdom</td>\n",
       "    </tr>\n",
       "    <tr>\n",
       "      <th>1</th>\n",
       "      <td>1</td>\n",
       "      <td>✅ Trip Verified |  Flew business class from Do...</td>\n",
       "      <td>3</td>\n",
       "      <td>2nd April 2024</td>\n",
       "      <td>United Kingdom</td>\n",
       "    </tr>\n",
       "    <tr>\n",
       "      <th>2</th>\n",
       "      <td>2</td>\n",
       "      <td>✅ Trip Verified |  Starting off at Heathrow Te...</td>\n",
       "      <td>4</td>\n",
       "      <td>28th March 2024</td>\n",
       "      <td>United Kingdom</td>\n",
       "    </tr>\n",
       "    <tr>\n",
       "      <th>3</th>\n",
       "      <td>3</td>\n",
       "      <td>Not Verified |  We have flown this route with ...</td>\n",
       "      <td>8</td>\n",
       "      <td>28th March 2024</td>\n",
       "      <td>United Kingdom</td>\n",
       "    </tr>\n",
       "    <tr>\n",
       "      <th>4</th>\n",
       "      <td>4</td>\n",
       "      <td>✅ Trip Verified | A last minute business trip ...</td>\n",
       "      <td>1</td>\n",
       "      <td>26th March 2024</td>\n",
       "      <td>United Kingdom</td>\n",
       "    </tr>\n",
       "  </tbody>\n",
       "</table>\n",
       "</div>"
      ],
      "text/plain": [
       "   Unnamed: 0                                            reviews  \\\n",
       "0           0  ✅ Trip Verified |  This is the first time I ha...   \n",
       "1           1  ✅ Trip Verified |  Flew business class from Do...   \n",
       "2           2  ✅ Trip Verified |  Starting off at Heathrow Te...   \n",
       "3           3  Not Verified |  We have flown this route with ...   \n",
       "4           4  ✅ Trip Verified | A last minute business trip ...   \n",
       "\n",
       "                           stars             date         country  \n",
       "0  \\n\\t\\t\\t\\t\\t\\t\\t\\t\\t\\t\\t\\t\\t5   2nd April 2024  United Kingdom  \n",
       "1                              3   2nd April 2024  United Kingdom  \n",
       "2                              4  28th March 2024  United Kingdom  \n",
       "3                              8  28th March 2024  United Kingdom  \n",
       "4                              1  26th March 2024  United Kingdom  "
      ]
     },
     "execution_count": 6,
     "metadata": {},
     "output_type": "execute_result"
    }
   ],
   "source": [
    "Unclean_Data.head()"
   ]
  },
  {
   "cell_type": "code",
   "execution_count": 8,
   "id": "6350df54",
   "metadata": {},
   "outputs": [
    {
     "data": {
      "text/plain": [
       "0        True\n",
       "1        True\n",
       "2        True\n",
       "3       False\n",
       "4        True\n",
       "        ...  \n",
       "3595    False\n",
       "3596    False\n",
       "3597    False\n",
       "3598    False\n",
       "3599    False\n",
       "Name: verified, Length: 3600, dtype: bool"
      ]
     },
     "execution_count": 8,
     "metadata": {},
     "output_type": "execute_result"
    }
   ],
   "source": [
    "Unclean_Data['verified'] = Unclean_Data.reviews.str.contains(\"Trip Verified\")\n",
    "\n",
    "Unclean_Data['verified']"
   ]
  },
  {
   "cell_type": "markdown",
   "id": "df6e955e",
   "metadata": {},
   "source": [
    "# For Reviews column"
   ]
  },
  {
   "cell_type": "code",
   "execution_count": 21,
   "id": "807d2dfe",
   "metadata": {},
   "outputs": [],
   "source": [
    "from nltk.stem import WordNetLemmatizer\n",
    "from nltk.corpus import stopwords\n",
    "import re\n",
    "\n",
    "lemma = WordNetLemmatizer()\n",
    "stop_words = set(stopwords.words(\"english\"))\n",
    "\n",
    "# Assuming reviews_data is a pandas Series containing the reviews\n",
    "reviews_data = Unclean_Data.reviews\n",
    "\n",
    "# Create an empty list to collect cleaned data corpus\n",
    "corpus = []\n",
    "\n",
    "# Loop through each review, strip everything before and including the \"|\" symbol, remove punctuations, lowercase it, lemmatize words, and add to corpus\n",
    "for rev in reviews_data:\n",
    "    rev = re.sub(r'^.*\\|', '', rev)  # Strip everything before and including the \"|\" symbol\n",
    "    rev = rev.lower()  # Convert to lowercase\n",
    "    rev = re.sub('[^a-zA-Z]', ' ', rev)  # Remove non-alphabetic characters\n",
    "    rev = rev.split()  # Tokenize into words\n",
    "    rev = [lemma.lemmatize(word) for word in rev if word not in stop_words]  # Lemmatize and remove stopwords\n",
    "    rev = \" \".join(rev)  # Join the words back into a single string\n",
    "    corpus.append(rev)  # Add the cleaned review to the corpus\n"
   ]
  },
  {
   "cell_type": "code",
   "execution_count": 22,
   "id": "b028b9b0",
   "metadata": {},
   "outputs": [],
   "source": [
    "Unclean_Data['corpus'] = corpus"
   ]
  },
  {
   "cell_type": "code",
   "execution_count": 23,
   "id": "b46b9161",
   "metadata": {},
   "outputs": [
    {
     "data": {
      "text/html": [
       "<div>\n",
       "<style scoped>\n",
       "    .dataframe tbody tr th:only-of-type {\n",
       "        vertical-align: middle;\n",
       "    }\n",
       "\n",
       "    .dataframe tbody tr th {\n",
       "        vertical-align: top;\n",
       "    }\n",
       "\n",
       "    .dataframe thead th {\n",
       "        text-align: right;\n",
       "    }\n",
       "</style>\n",
       "<table border=\"1\" class=\"dataframe\">\n",
       "  <thead>\n",
       "    <tr style=\"text-align: right;\">\n",
       "      <th></th>\n",
       "      <th>Unnamed: 0</th>\n",
       "      <th>reviews</th>\n",
       "      <th>stars</th>\n",
       "      <th>date</th>\n",
       "      <th>country</th>\n",
       "      <th>verified</th>\n",
       "      <th>corpus</th>\n",
       "    </tr>\n",
       "  </thead>\n",
       "  <tbody>\n",
       "    <tr>\n",
       "      <th>0</th>\n",
       "      <td>0</td>\n",
       "      <td>✅ Trip Verified |  This is the first time I ha...</td>\n",
       "      <td>\\n\\t\\t\\t\\t\\t\\t\\t\\t\\t\\t\\t\\t\\t5</td>\n",
       "      <td>2nd April 2024</td>\n",
       "      <td>United Kingdom</td>\n",
       "      <td>True</td>\n",
       "      <td>first time seen new club world suite seat comf...</td>\n",
       "    </tr>\n",
       "    <tr>\n",
       "      <th>1</th>\n",
       "      <td>1</td>\n",
       "      <td>✅ Trip Verified |  Flew business class from Do...</td>\n",
       "      <td>3</td>\n",
       "      <td>2nd April 2024</td>\n",
       "      <td>United Kingdom</td>\n",
       "      <td>True</td>\n",
       "      <td>flew business class doha london st march servi...</td>\n",
       "    </tr>\n",
       "    <tr>\n",
       "      <th>2</th>\n",
       "      <td>2</td>\n",
       "      <td>✅ Trip Verified |  Starting off at Heathrow Te...</td>\n",
       "      <td>4</td>\n",
       "      <td>28th March 2024</td>\n",
       "      <td>United Kingdom</td>\n",
       "      <td>True</td>\n",
       "      <td>starting heathrow terminal check fairly easy f...</td>\n",
       "    </tr>\n",
       "    <tr>\n",
       "      <th>3</th>\n",
       "      <td>3</td>\n",
       "      <td>Not Verified |  We have flown this route with ...</td>\n",
       "      <td>8</td>\n",
       "      <td>28th March 2024</td>\n",
       "      <td>United Kingdom</td>\n",
       "      <td>False</td>\n",
       "      <td>flown route easyjet regularly twenty year age ...</td>\n",
       "    </tr>\n",
       "    <tr>\n",
       "      <th>4</th>\n",
       "      <td>4</td>\n",
       "      <td>✅ Trip Verified | A last minute business trip ...</td>\n",
       "      <td>1</td>\n",
       "      <td>26th March 2024</td>\n",
       "      <td>United Kingdom</td>\n",
       "      <td>True</td>\n",
       "      <td>last minute business trip hnd route regularly ...</td>\n",
       "    </tr>\n",
       "  </tbody>\n",
       "</table>\n",
       "</div>"
      ],
      "text/plain": [
       "   Unnamed: 0                                            reviews  \\\n",
       "0           0  ✅ Trip Verified |  This is the first time I ha...   \n",
       "1           1  ✅ Trip Verified |  Flew business class from Do...   \n",
       "2           2  ✅ Trip Verified |  Starting off at Heathrow Te...   \n",
       "3           3  Not Verified |  We have flown this route with ...   \n",
       "4           4  ✅ Trip Verified | A last minute business trip ...   \n",
       "\n",
       "                           stars             date         country  verified  \\\n",
       "0  \\n\\t\\t\\t\\t\\t\\t\\t\\t\\t\\t\\t\\t\\t5   2nd April 2024  United Kingdom      True   \n",
       "1                              3   2nd April 2024  United Kingdom      True   \n",
       "2                              4  28th March 2024  United Kingdom      True   \n",
       "3                              8  28th March 2024  United Kingdom     False   \n",
       "4                              1  26th March 2024  United Kingdom      True   \n",
       "\n",
       "                                              corpus  \n",
       "0  first time seen new club world suite seat comf...  \n",
       "1  flew business class doha london st march servi...  \n",
       "2  starting heathrow terminal check fairly easy f...  \n",
       "3  flown route easyjet regularly twenty year age ...  \n",
       "4  last minute business trip hnd route regularly ...  "
      ]
     },
     "execution_count": 23,
     "metadata": {},
     "output_type": "execute_result"
    }
   ],
   "source": [
    "Unclean_Data.head()"
   ]
  },
  {
   "cell_type": "markdown",
   "id": "1c8acc5a",
   "metadata": {},
   "source": [
    "# For Dates"
   ]
  },
  {
   "cell_type": "code",
   "execution_count": 24,
   "id": "b18a4703",
   "metadata": {},
   "outputs": [
    {
     "data": {
      "text/plain": [
       "Unnamed: 0     int64\n",
       "reviews       object\n",
       "stars         object\n",
       "date          object\n",
       "country       object\n",
       "verified        bool\n",
       "corpus        object\n",
       "dtype: object"
      ]
     },
     "execution_count": 24,
     "metadata": {},
     "output_type": "execute_result"
    }
   ],
   "source": [
    "Unclean_Data.dtypes"
   ]
  },
  {
   "cell_type": "code",
   "execution_count": 25,
   "id": "a290c1d5",
   "metadata": {},
   "outputs": [],
   "source": [
    "# converting the date to datetime format\n",
    "\n",
    "Unclean_Data.date = pd.to_datetime(Unclean_Data.date)"
   ]
  },
  {
   "cell_type": "code",
   "execution_count": 26,
   "id": "bdc0c89f",
   "metadata": {},
   "outputs": [
    {
     "data": {
      "text/plain": [
       "0   2024-04-02\n",
       "1   2024-04-02\n",
       "2   2024-03-28\n",
       "3   2024-03-28\n",
       "4   2024-03-26\n",
       "Name: date, dtype: datetime64[ns]"
      ]
     },
     "execution_count": 26,
     "metadata": {},
     "output_type": "execute_result"
    }
   ],
   "source": [
    "Unclean_Data.date.head()"
   ]
  },
  {
   "cell_type": "markdown",
   "id": "223f0184",
   "metadata": {},
   "source": [
    "# For Stars"
   ]
  },
  {
   "cell_type": "code",
   "execution_count": 28,
   "id": "f9e99779",
   "metadata": {},
   "outputs": [
    {
     "data": {
      "text/plain": [
       "array(['\\n\\t\\t\\t\\t\\t\\t\\t\\t\\t\\t\\t\\t\\t5', '3', '4', '8', '1', '5', '10',\n",
       "       '9', '7', '2', '6', 'None'], dtype=object)"
      ]
     },
     "execution_count": 28,
     "metadata": {},
     "output_type": "execute_result"
    }
   ],
   "source": [
    "#check for unique values\n",
    "Unclean_Data.stars.unique()"
   ]
  },
  {
   "cell_type": "code",
   "execution_count": 31,
   "id": "437d6336",
   "metadata": {},
   "outputs": [
    {
     "data": {
      "text/plain": [
       "1       867\n",
       "2       411\n",
       "3       407\n",
       "8       355\n",
       "10      298\n",
       "9       292\n",
       "7       288\n",
       "5       253\n",
       "4       243\n",
       "6       182\n",
       "None      4\n",
       "Name: stars, dtype: int64"
      ]
     },
     "execution_count": 31,
     "metadata": {},
     "output_type": "execute_result"
    }
   ],
   "source": [
    "# remove the \\t and \\n from the ratings\n",
    "Unclean_Data.stars = Unclean_Data.stars.str.strip(\"\\n\\t\\t\\t\\t\\t\\t\\t\\t\\t\\t\\t\\t\\t\")\n",
    "\n",
    "Unclean_Data.stars.value_counts()"
   ]
  },
  {
   "cell_type": "code",
   "execution_count": 32,
   "id": "31e69ca2",
   "metadata": {},
   "outputs": [],
   "source": [
    "# drop the rows where the value of ratings is None\n",
    "Unclean_Data.drop(Unclean_Data[Unclean_Data.stars == \"None\"].index, axis=0, inplace=True)"
   ]
  },
  {
   "cell_type": "code",
   "execution_count": 34,
   "id": "3ea69ad0",
   "metadata": {},
   "outputs": [
    {
     "data": {
      "text/plain": [
       "array(['5', '3', '4', '8', '1', '10', '9', '7', '2', '6'], dtype=object)"
      ]
     },
     "execution_count": 34,
     "metadata": {},
     "output_type": "execute_result"
    }
   ],
   "source": [
    "#check the unique values again\n",
    "Unclean_Data.stars.unique()"
   ]
  },
  {
   "cell_type": "markdown",
   "id": "983ac98d",
   "metadata": {},
   "source": [
    "# For Null Values"
   ]
  },
  {
   "cell_type": "code",
   "execution_count": 35,
   "id": "f40f0c8a",
   "metadata": {},
   "outputs": [
    {
     "data": {
      "text/plain": [
       "Unnamed: 0  reviews  stars  date   country  verified  corpus\n",
       "False       False    False  False  False    False     False     3594\n",
       "                                   True     False     False        2\n",
       "dtype: int64"
      ]
     },
     "execution_count": 35,
     "metadata": {},
     "output_type": "execute_result"
    }
   ],
   "source": [
    "Unclean_Data.isnull().value_counts()"
   ]
  },
  {
   "cell_type": "code",
   "execution_count": 36,
   "id": "f5215ed7",
   "metadata": {},
   "outputs": [],
   "source": [
    "#drop the rows using index where the country value is null\n",
    "Unclean_Data.drop(Unclean_Data[Unclean_Data.country.isnull() == True].index, axis=0, inplace=True)"
   ]
  },
  {
   "cell_type": "code",
   "execution_count": 38,
   "id": "c079c2f7",
   "metadata": {},
   "outputs": [
    {
     "data": {
      "text/html": [
       "<div>\n",
       "<style scoped>\n",
       "    .dataframe tbody tr th:only-of-type {\n",
       "        vertical-align: middle;\n",
       "    }\n",
       "\n",
       "    .dataframe tbody tr th {\n",
       "        vertical-align: top;\n",
       "    }\n",
       "\n",
       "    .dataframe thead th {\n",
       "        text-align: right;\n",
       "    }\n",
       "</style>\n",
       "<table border=\"1\" class=\"dataframe\">\n",
       "  <thead>\n",
       "    <tr style=\"text-align: right;\">\n",
       "      <th></th>\n",
       "      <th>Unnamed: 0</th>\n",
       "      <th>reviews</th>\n",
       "      <th>stars</th>\n",
       "      <th>date</th>\n",
       "      <th>country</th>\n",
       "      <th>verified</th>\n",
       "      <th>corpus</th>\n",
       "    </tr>\n",
       "  </thead>\n",
       "  <tbody>\n",
       "    <tr>\n",
       "      <th>0</th>\n",
       "      <td>0</td>\n",
       "      <td>✅ Trip Verified |  This is the first time I ha...</td>\n",
       "      <td>5</td>\n",
       "      <td>2024-04-02</td>\n",
       "      <td>United Kingdom</td>\n",
       "      <td>True</td>\n",
       "      <td>first time seen new club world suite seat comf...</td>\n",
       "    </tr>\n",
       "    <tr>\n",
       "      <th>1</th>\n",
       "      <td>1</td>\n",
       "      <td>✅ Trip Verified |  Flew business class from Do...</td>\n",
       "      <td>3</td>\n",
       "      <td>2024-04-02</td>\n",
       "      <td>United Kingdom</td>\n",
       "      <td>True</td>\n",
       "      <td>flew business class doha london st march servi...</td>\n",
       "    </tr>\n",
       "    <tr>\n",
       "      <th>2</th>\n",
       "      <td>2</td>\n",
       "      <td>✅ Trip Verified |  Starting off at Heathrow Te...</td>\n",
       "      <td>4</td>\n",
       "      <td>2024-03-28</td>\n",
       "      <td>United Kingdom</td>\n",
       "      <td>True</td>\n",
       "      <td>starting heathrow terminal check fairly easy f...</td>\n",
       "    </tr>\n",
       "    <tr>\n",
       "      <th>3</th>\n",
       "      <td>3</td>\n",
       "      <td>Not Verified |  We have flown this route with ...</td>\n",
       "      <td>8</td>\n",
       "      <td>2024-03-28</td>\n",
       "      <td>United Kingdom</td>\n",
       "      <td>False</td>\n",
       "      <td>flown route easyjet regularly twenty year age ...</td>\n",
       "    </tr>\n",
       "    <tr>\n",
       "      <th>4</th>\n",
       "      <td>4</td>\n",
       "      <td>✅ Trip Verified | A last minute business trip ...</td>\n",
       "      <td>1</td>\n",
       "      <td>2024-03-26</td>\n",
       "      <td>United Kingdom</td>\n",
       "      <td>True</td>\n",
       "      <td>last minute business trip hnd route regularly ...</td>\n",
       "    </tr>\n",
       "    <tr>\n",
       "      <th>...</th>\n",
       "      <td>...</td>\n",
       "      <td>...</td>\n",
       "      <td>...</td>\n",
       "      <td>...</td>\n",
       "      <td>...</td>\n",
       "      <td>...</td>\n",
       "      <td>...</td>\n",
       "    </tr>\n",
       "    <tr>\n",
       "      <th>3589</th>\n",
       "      <td>3595</td>\n",
       "      <td>Flight BA283 LHR-LAX on 31/5/2014 onboard G-XL...</td>\n",
       "      <td>7</td>\n",
       "      <td>2014-07-29</td>\n",
       "      <td>Netherlands</td>\n",
       "      <td>False</td>\n",
       "      <td>flight ba lhr lax onboard g xlee flight punctu...</td>\n",
       "    </tr>\n",
       "    <tr>\n",
       "      <th>3590</th>\n",
       "      <td>3596</td>\n",
       "      <td>Round-trip with family from JFK to HYD via LHR...</td>\n",
       "      <td>8</td>\n",
       "      <td>2014-07-29</td>\n",
       "      <td>United States</td>\n",
       "      <td>False</td>\n",
       "      <td>round trip family jfk hyd via lhr onward fligh...</td>\n",
       "    </tr>\n",
       "    <tr>\n",
       "      <th>3591</th>\n",
       "      <td>3597</td>\n",
       "      <td>LHR-BSL-LHR 22nd/23rd July BA748 and BA755 A31...</td>\n",
       "      <td>5</td>\n",
       "      <td>2014-07-29</td>\n",
       "      <td>United Kingdom</td>\n",
       "      <td>False</td>\n",
       "      <td>lhr bsl lhr nd rd july ba ba way bag drop seem...</td>\n",
       "    </tr>\n",
       "    <tr>\n",
       "      <th>3592</th>\n",
       "      <td>3598</td>\n",
       "      <td>We flew to Rome from Newcastle via Heathrow th...</td>\n",
       "      <td>3</td>\n",
       "      <td>2014-07-29</td>\n",
       "      <td>United Kingdom</td>\n",
       "      <td>False</td>\n",
       "      <td>flew rome newcastle via heathrow ground staff ...</td>\n",
       "    </tr>\n",
       "    <tr>\n",
       "      <th>3593</th>\n",
       "      <td>3599</td>\n",
       "      <td>Flight BA274 LAS-LHR on 8/6/2014 onboard G-CIV...</td>\n",
       "      <td>6</td>\n",
       "      <td>2014-07-29</td>\n",
       "      <td>Netherlands</td>\n",
       "      <td>False</td>\n",
       "      <td>flight ba la lhr onboard g civb b flight time ...</td>\n",
       "    </tr>\n",
       "  </tbody>\n",
       "</table>\n",
       "<p>3594 rows × 7 columns</p>\n",
       "</div>"
      ],
      "text/plain": [
       "      Unnamed: 0                                            reviews stars  \\\n",
       "0              0  ✅ Trip Verified |  This is the first time I ha...     5   \n",
       "1              1  ✅ Trip Verified |  Flew business class from Do...     3   \n",
       "2              2  ✅ Trip Verified |  Starting off at Heathrow Te...     4   \n",
       "3              3  Not Verified |  We have flown this route with ...     8   \n",
       "4              4  ✅ Trip Verified | A last minute business trip ...     1   \n",
       "...          ...                                                ...   ...   \n",
       "3589        3595  Flight BA283 LHR-LAX on 31/5/2014 onboard G-XL...     7   \n",
       "3590        3596  Round-trip with family from JFK to HYD via LHR...     8   \n",
       "3591        3597  LHR-BSL-LHR 22nd/23rd July BA748 and BA755 A31...     5   \n",
       "3592        3598  We flew to Rome from Newcastle via Heathrow th...     3   \n",
       "3593        3599  Flight BA274 LAS-LHR on 8/6/2014 onboard G-CIV...     6   \n",
       "\n",
       "           date         country  verified  \\\n",
       "0    2024-04-02  United Kingdom      True   \n",
       "1    2024-04-02  United Kingdom      True   \n",
       "2    2024-03-28  United Kingdom      True   \n",
       "3    2024-03-28  United Kingdom     False   \n",
       "4    2024-03-26  United Kingdom      True   \n",
       "...         ...             ...       ...   \n",
       "3589 2014-07-29     Netherlands     False   \n",
       "3590 2014-07-29   United States     False   \n",
       "3591 2014-07-29  United Kingdom     False   \n",
       "3592 2014-07-29  United Kingdom     False   \n",
       "3593 2014-07-29     Netherlands     False   \n",
       "\n",
       "                                                 corpus  \n",
       "0     first time seen new club world suite seat comf...  \n",
       "1     flew business class doha london st march servi...  \n",
       "2     starting heathrow terminal check fairly easy f...  \n",
       "3     flown route easyjet regularly twenty year age ...  \n",
       "4     last minute business trip hnd route regularly ...  \n",
       "...                                                 ...  \n",
       "3589  flight ba lhr lax onboard g xlee flight punctu...  \n",
       "3590  round trip family jfk hyd via lhr onward fligh...  \n",
       "3591  lhr bsl lhr nd rd july ba ba way bag drop seem...  \n",
       "3592  flew rome newcastle via heathrow ground staff ...  \n",
       "3593  flight ba la lhr onboard g civb b flight time ...  \n",
       "\n",
       "[3594 rows x 7 columns]"
      ]
     },
     "execution_count": 38,
     "metadata": {},
     "output_type": "execute_result"
    }
   ],
   "source": [
    "#resetting the index\n",
    "Unclean_Data.reset_index(drop=True)"
   ]
  },
  {
   "cell_type": "code",
   "execution_count": 39,
   "id": "dd3c724a",
   "metadata": {},
   "outputs": [],
   "source": [
    "# export the cleaned data\n",
    "\n",
    "Unclean_Data.to_csv(\"C:/Users/vatsa/Downloads/British-Airways-reviews-analysis/Data/cleaned-BA-reviews.csv\")"
   ]
  },
  {
   "cell_type": "code",
   "execution_count": null,
   "id": "b82c35c7",
   "metadata": {},
   "outputs": [],
   "source": []
  }
 ],
 "metadata": {
  "kernelspec": {
   "display_name": "Python 3 (ipykernel)",
   "language": "python",
   "name": "python3"
  },
  "language_info": {
   "codemirror_mode": {
    "name": "ipython",
    "version": 3
   },
   "file_extension": ".py",
   "mimetype": "text/x-python",
   "name": "python",
   "nbconvert_exporter": "python",
   "pygments_lexer": "ipython3",
   "version": "3.9.13"
  }
 },
 "nbformat": 4,
 "nbformat_minor": 5
}
